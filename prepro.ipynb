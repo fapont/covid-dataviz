{
 "metadata": {
  "language_info": {
   "codemirror_mode": {
    "name": "ipython",
    "version": 3
   },
   "file_extension": ".py",
   "mimetype": "text/x-python",
   "name": "python",
   "nbconvert_exporter": "python",
   "pygments_lexer": "ipython3",
   "version": "3.8.8"
  },
  "orig_nbformat": 4,
  "kernelspec": {
   "name": "python3",
   "display_name": "Python 3.8.8 64-bit ('datascience_env': conda)"
  },
  "interpreter": {
   "hash": "d040fe44094f607f8a7e092c732cea4bc734eda1f596a5539f89b0737d59792e"
  }
 },
 "nbformat": 4,
 "nbformat_minor": 2,
 "cells": [
  {
   "cell_type": "code",
   "execution_count": 1,
   "metadata": {},
   "outputs": [
    {
     "output_type": "display_data",
     "data": {
      "text/plain": "<IPython.core.display.Javascript object>",
      "application/javascript": "\n        if (window._pyforest_update_imports_cell) { window._pyforest_update_imports_cell('import pandas as pd'); }\n    "
     },
     "metadata": {}
    },
    {
     "output_type": "execute_result",
     "data": {
      "text/plain": [
       "        name     value    year  lastValue  rank\n",
       "0      Apple  214480.0  2018.0   211447.4     1\n",
       "1      Apple  211447.4  2017.9   208414.8     1\n",
       "2      Apple  208414.8  2017.8   205382.2     1\n",
       "3      Apple  205382.2  2017.7   202349.6     1\n",
       "4      Apple  202349.6  2017.6   199317.0     1\n",
       "...      ...       ...     ...        ...   ...\n",
       "18095   Zara       NaN  2004.5        NaN   100\n",
       "18096   Zara       NaN  2004.6        NaN   100\n",
       "18097   Zara       NaN  2004.7        NaN   100\n",
       "18098   Zara       NaN  2004.8        NaN   100\n",
       "18099   Zara       NaN  2004.9        NaN   100\n",
       "\n",
       "[18100 rows x 5 columns]"
      ],
      "text/html": "<div>\n<style scoped>\n    .dataframe tbody tr th:only-of-type {\n        vertical-align: middle;\n    }\n\n    .dataframe tbody tr th {\n        vertical-align: top;\n    }\n\n    .dataframe thead th {\n        text-align: right;\n    }\n</style>\n<table border=\"1\" class=\"dataframe\">\n  <thead>\n    <tr style=\"text-align: right;\">\n      <th></th>\n      <th>name</th>\n      <th>value</th>\n      <th>year</th>\n      <th>lastValue</th>\n      <th>rank</th>\n    </tr>\n  </thead>\n  <tbody>\n    <tr>\n      <th>0</th>\n      <td>Apple</td>\n      <td>214480.0</td>\n      <td>2018.0</td>\n      <td>211447.4</td>\n      <td>1</td>\n    </tr>\n    <tr>\n      <th>1</th>\n      <td>Apple</td>\n      <td>211447.4</td>\n      <td>2017.9</td>\n      <td>208414.8</td>\n      <td>1</td>\n    </tr>\n    <tr>\n      <th>2</th>\n      <td>Apple</td>\n      <td>208414.8</td>\n      <td>2017.8</td>\n      <td>205382.2</td>\n      <td>1</td>\n    </tr>\n    <tr>\n      <th>3</th>\n      <td>Apple</td>\n      <td>205382.2</td>\n      <td>2017.7</td>\n      <td>202349.6</td>\n      <td>1</td>\n    </tr>\n    <tr>\n      <th>4</th>\n      <td>Apple</td>\n      <td>202349.6</td>\n      <td>2017.6</td>\n      <td>199317.0</td>\n      <td>1</td>\n    </tr>\n    <tr>\n      <th>...</th>\n      <td>...</td>\n      <td>...</td>\n      <td>...</td>\n      <td>...</td>\n      <td>...</td>\n    </tr>\n    <tr>\n      <th>18095</th>\n      <td>Zara</td>\n      <td>NaN</td>\n      <td>2004.5</td>\n      <td>NaN</td>\n      <td>100</td>\n    </tr>\n    <tr>\n      <th>18096</th>\n      <td>Zara</td>\n      <td>NaN</td>\n      <td>2004.6</td>\n      <td>NaN</td>\n      <td>100</td>\n    </tr>\n    <tr>\n      <th>18097</th>\n      <td>Zara</td>\n      <td>NaN</td>\n      <td>2004.7</td>\n      <td>NaN</td>\n      <td>100</td>\n    </tr>\n    <tr>\n      <th>18098</th>\n      <td>Zara</td>\n      <td>NaN</td>\n      <td>2004.8</td>\n      <td>NaN</td>\n      <td>100</td>\n    </tr>\n    <tr>\n      <th>18099</th>\n      <td>Zara</td>\n      <td>NaN</td>\n      <td>2004.9</td>\n      <td>NaN</td>\n      <td>100</td>\n    </tr>\n  </tbody>\n</table>\n<p>18100 rows × 5 columns</p>\n</div>"
     },
     "metadata": {},
     "execution_count": 1
    }
   ],
   "source": [
    "df_a = pd.read_csv(\"web/data/brand_values.csv\")\n",
    "df_a"
   ]
  },
  {
   "cell_type": "code",
   "execution_count": 2,
   "metadata": {},
   "outputs": [
    {
     "output_type": "display_data",
     "data": {
      "text/plain": "<IPython.core.display.Javascript object>",
      "application/javascript": "\n        if (window._pyforest_update_imports_cell) { window._pyforest_update_imports_cell('import pandas as pd'); }\n    "
     },
     "metadata": {}
    },
    {
     "output_type": "display_data",
     "data": {
      "text/plain": "<IPython.core.display.Javascript object>",
      "application/javascript": "\n        if (window._pyforest_update_imports_cell) { window._pyforest_update_imports_cell('import pandas as pd'); }\n    "
     },
     "metadata": {}
    },
    {
     "output_type": "display_data",
     "data": {
      "text/plain": "<IPython.core.display.Javascript object>",
      "application/javascript": "\n        if (window._pyforest_update_imports_cell) { window._pyforest_update_imports_cell('import pandas as pd'); }\n    "
     },
     "metadata": {}
    },
    {
     "output_type": "stream",
     "name": "stderr",
     "text": [
      "<ipython-input-2-07970d28c589>:15: FutureWarning: Series.dt.weekofyear and Series.dt.week have been deprecated.  Please use Series.dt.isocalendar().week instead.\n  df[\"year\"] = df[\"year\"].dt.year + df[\"year\"].dt.week/52\n"
     ]
    }
   ],
   "source": [
    "df = pd.read_csv(\"web/data/covid-data.csv\")\n",
    "df[\"date\"] = pd.to_datetime(df[\"date\"])\n",
    "df = df.set_index(\"date\")\n",
    "df = df[[\"location\", \"total_cases\", \"new_cases\"]].reset_index()\n",
    "df[\"lastValue\"] = df[\"total_cases\"] - df[\"new_cases\"]\n",
    "df = df.rename(columns={\"total_cases\" : \"value\", \"location\" : \"name\"})\n",
    "df = df.fillna(0)\n",
    "df = df.sort_values([\"date\", \"value\"], ascending=[True, False])\n",
    "df = df.groupby([\"name\", pd.Grouper(key='date', freq=\"W-MON\")]).sum(\"value\").reset_index()\n",
    "df[\"lastValue\"] = df[\"value\"].shift().fillna(0)\n",
    "df = df.drop(\"new_cases\", axis=1)\n",
    "df = df.rename(columns={\"date\":\"year\"})\n",
    "df[\"rank\"] = 0\n",
    "df = df[[\"name\", \"value\", \"year\", \"lastValue\", \"rank\"]]#.to_csv(\"covid_1.csv\")\n",
    "df[\"year\"] = df[\"year\"].dt.year + df[\"year\"].dt.week/52\n",
    "df[\"year\"] = df[\"year\"].round(1)\n",
    "df = df.groupby([\"name\", \"year\"]).max().reset_index()\n",
    "df[\"lastValue\"] = df[\"value\"].shift().fillna(0)\n",
    "cont = [\"Europe\", \"Asia\", \"North America\", \"Africa\", \"Oceania\", \"World\", \"South America\", \"European Union\"]\n",
    "df = df[~df[\"name\"].isin(cont)]\n",
    "df[\"rank\"] = df.groupby(\"year\").rank(method=\"max\", ascending=False)[\"value\"].astype(int)"
   ]
  },
  {
   "cell_type": "code",
   "execution_count": 3,
   "metadata": {},
   "outputs": [
    {
     "output_type": "execute_result",
     "data": {
      "text/plain": [
       "             name    year     value  lastValue  rank\n",
       "0     Afghanistan  2020.2     203.0        0.0   101\n",
       "1     Afghanistan  2020.3    9537.0      203.0    75\n",
       "2     Afghanistan  2020.4   96483.0     9537.0    45\n",
       "3     Afghanistan  2020.5  226442.0    96483.0    44\n",
       "4     Afghanistan  2020.6  258809.0   226442.0    54\n",
       "...           ...     ...       ...        ...   ...\n",
       "2684     Zimbabwe  2021.0  137606.0    67837.0   111\n",
       "2685     Zimbabwe  2021.1  245052.0   137606.0   106\n",
       "2686     Zimbabwe  2021.2  257528.0   245052.0   112\n",
       "2687     Zimbabwe  2021.3  267681.0   257528.0   113\n",
       "2688     Zimbabwe  2021.4  272135.0   267681.0   116\n",
       "\n",
       "[2579 rows x 5 columns]"
      ],
      "text/html": "<div>\n<style scoped>\n    .dataframe tbody tr th:only-of-type {\n        vertical-align: middle;\n    }\n\n    .dataframe tbody tr th {\n        vertical-align: top;\n    }\n\n    .dataframe thead th {\n        text-align: right;\n    }\n</style>\n<table border=\"1\" class=\"dataframe\">\n  <thead>\n    <tr style=\"text-align: right;\">\n      <th></th>\n      <th>name</th>\n      <th>year</th>\n      <th>value</th>\n      <th>lastValue</th>\n      <th>rank</th>\n    </tr>\n  </thead>\n  <tbody>\n    <tr>\n      <th>0</th>\n      <td>Afghanistan</td>\n      <td>2020.2</td>\n      <td>203.0</td>\n      <td>0.0</td>\n      <td>101</td>\n    </tr>\n    <tr>\n      <th>1</th>\n      <td>Afghanistan</td>\n      <td>2020.3</td>\n      <td>9537.0</td>\n      <td>203.0</td>\n      <td>75</td>\n    </tr>\n    <tr>\n      <th>2</th>\n      <td>Afghanistan</td>\n      <td>2020.4</td>\n      <td>96483.0</td>\n      <td>9537.0</td>\n      <td>45</td>\n    </tr>\n    <tr>\n      <th>3</th>\n      <td>Afghanistan</td>\n      <td>2020.5</td>\n      <td>226442.0</td>\n      <td>96483.0</td>\n      <td>44</td>\n    </tr>\n    <tr>\n      <th>4</th>\n      <td>Afghanistan</td>\n      <td>2020.6</td>\n      <td>258809.0</td>\n      <td>226442.0</td>\n      <td>54</td>\n    </tr>\n    <tr>\n      <th>...</th>\n      <td>...</td>\n      <td>...</td>\n      <td>...</td>\n      <td>...</td>\n      <td>...</td>\n    </tr>\n    <tr>\n      <th>2684</th>\n      <td>Zimbabwe</td>\n      <td>2021.0</td>\n      <td>137606.0</td>\n      <td>67837.0</td>\n      <td>111</td>\n    </tr>\n    <tr>\n      <th>2685</th>\n      <td>Zimbabwe</td>\n      <td>2021.1</td>\n      <td>245052.0</td>\n      <td>137606.0</td>\n      <td>106</td>\n    </tr>\n    <tr>\n      <th>2686</th>\n      <td>Zimbabwe</td>\n      <td>2021.2</td>\n      <td>257528.0</td>\n      <td>245052.0</td>\n      <td>112</td>\n    </tr>\n    <tr>\n      <th>2687</th>\n      <td>Zimbabwe</td>\n      <td>2021.3</td>\n      <td>267681.0</td>\n      <td>257528.0</td>\n      <td>113</td>\n    </tr>\n    <tr>\n      <th>2688</th>\n      <td>Zimbabwe</td>\n      <td>2021.4</td>\n      <td>272135.0</td>\n      <td>267681.0</td>\n      <td>116</td>\n    </tr>\n  </tbody>\n</table>\n<p>2579 rows × 5 columns</p>\n</div>"
     },
     "metadata": {},
     "execution_count": 3
    }
   ],
   "source": [
    "df"
   ]
  },
  {
   "cell_type": "code",
   "execution_count": 8,
   "metadata": {},
   "outputs": [],
   "source": [
    "df.to_csv(\"web/data/covid_1.csv\")"
   ]
  },
  {
   "cell_type": "code",
   "execution_count": 5,
   "metadata": {},
   "outputs": [],
   "source": [
    "#df.groupby([\"name\", pd.Grouper(key='date', freq='W-MON')]).sum(\"value\")"
   ]
  },
  {
   "source": [
    "dates = df[\"date\"].unique()\n",
    "df[\"rank\"] = 0\n",
    "for day in dates:\n",
    "    for i in range(len(df[df[\"date\"] == day])):\n",
    "        df[df[\"date\"] == day].iloc[i][\"rank\"] = i+1"
   ],
   "cell_type": "markdown",
   "metadata": {}
  },
  {
   "cell_type": "code",
   "execution_count": 6,
   "metadata": {},
   "outputs": [
    {
     "output_type": "execute_result",
     "data": {
      "text/plain": [
       "        name     value    year  lastValue  rank\n",
       "0      Apple  214480.0  2018.0   211447.4     1\n",
       "1      Apple  211447.4  2017.9   208414.8     1\n",
       "2      Apple  208414.8  2017.8   205382.2     1\n",
       "3      Apple  205382.2  2017.7   202349.6     1\n",
       "4      Apple  202349.6  2017.6   199317.0     1\n",
       "...      ...       ...     ...        ...   ...\n",
       "18095   Zara       NaN  2004.5        NaN   100\n",
       "18096   Zara       NaN  2004.6        NaN   100\n",
       "18097   Zara       NaN  2004.7        NaN   100\n",
       "18098   Zara       NaN  2004.8        NaN   100\n",
       "18099   Zara       NaN  2004.9        NaN   100\n",
       "\n",
       "[18100 rows x 5 columns]"
      ],
      "text/html": "<div>\n<style scoped>\n    .dataframe tbody tr th:only-of-type {\n        vertical-align: middle;\n    }\n\n    .dataframe tbody tr th {\n        vertical-align: top;\n    }\n\n    .dataframe thead th {\n        text-align: right;\n    }\n</style>\n<table border=\"1\" class=\"dataframe\">\n  <thead>\n    <tr style=\"text-align: right;\">\n      <th></th>\n      <th>name</th>\n      <th>value</th>\n      <th>year</th>\n      <th>lastValue</th>\n      <th>rank</th>\n    </tr>\n  </thead>\n  <tbody>\n    <tr>\n      <th>0</th>\n      <td>Apple</td>\n      <td>214480.0</td>\n      <td>2018.0</td>\n      <td>211447.4</td>\n      <td>1</td>\n    </tr>\n    <tr>\n      <th>1</th>\n      <td>Apple</td>\n      <td>211447.4</td>\n      <td>2017.9</td>\n      <td>208414.8</td>\n      <td>1</td>\n    </tr>\n    <tr>\n      <th>2</th>\n      <td>Apple</td>\n      <td>208414.8</td>\n      <td>2017.8</td>\n      <td>205382.2</td>\n      <td>1</td>\n    </tr>\n    <tr>\n      <th>3</th>\n      <td>Apple</td>\n      <td>205382.2</td>\n      <td>2017.7</td>\n      <td>202349.6</td>\n      <td>1</td>\n    </tr>\n    <tr>\n      <th>4</th>\n      <td>Apple</td>\n      <td>202349.6</td>\n      <td>2017.6</td>\n      <td>199317.0</td>\n      <td>1</td>\n    </tr>\n    <tr>\n      <th>...</th>\n      <td>...</td>\n      <td>...</td>\n      <td>...</td>\n      <td>...</td>\n      <td>...</td>\n    </tr>\n    <tr>\n      <th>18095</th>\n      <td>Zara</td>\n      <td>NaN</td>\n      <td>2004.5</td>\n      <td>NaN</td>\n      <td>100</td>\n    </tr>\n    <tr>\n      <th>18096</th>\n      <td>Zara</td>\n      <td>NaN</td>\n      <td>2004.6</td>\n      <td>NaN</td>\n      <td>100</td>\n    </tr>\n    <tr>\n      <th>18097</th>\n      <td>Zara</td>\n      <td>NaN</td>\n      <td>2004.7</td>\n      <td>NaN</td>\n      <td>100</td>\n    </tr>\n    <tr>\n      <th>18098</th>\n      <td>Zara</td>\n      <td>NaN</td>\n      <td>2004.8</td>\n      <td>NaN</td>\n      <td>100</td>\n    </tr>\n    <tr>\n      <th>18099</th>\n      <td>Zara</td>\n      <td>NaN</td>\n      <td>2004.9</td>\n      <td>NaN</td>\n      <td>100</td>\n    </tr>\n  </tbody>\n</table>\n<p>18100 rows × 5 columns</p>\n</div>"
     },
     "metadata": {},
     "execution_count": 6
    }
   ],
   "source": [
    "df_a"
   ]
  },
  {
   "cell_type": "code",
   "execution_count": 7,
   "metadata": {},
   "outputs": [
    {
     "output_type": "execute_result",
     "data": {
      "text/plain": [
       "             name    year     value  lastValue  rank\n",
       "0     Afghanistan  2020.2     203.0        0.0   101\n",
       "1     Afghanistan  2020.3    9537.0      203.0    75\n",
       "2     Afghanistan  2020.4   96483.0     9537.0    45\n",
       "3     Afghanistan  2020.5  226442.0    96483.0    44\n",
       "4     Afghanistan  2020.6  258809.0   226442.0    54\n",
       "...           ...     ...       ...        ...   ...\n",
       "2684     Zimbabwe  2021.0  137606.0    67837.0   111\n",
       "2685     Zimbabwe  2021.1  245052.0   137606.0   106\n",
       "2686     Zimbabwe  2021.2  257528.0   245052.0   112\n",
       "2687     Zimbabwe  2021.3  267681.0   257528.0   113\n",
       "2688     Zimbabwe  2021.4  272135.0   267681.0   116\n",
       "\n",
       "[2579 rows x 5 columns]"
      ],
      "text/html": "<div>\n<style scoped>\n    .dataframe tbody tr th:only-of-type {\n        vertical-align: middle;\n    }\n\n    .dataframe tbody tr th {\n        vertical-align: top;\n    }\n\n    .dataframe thead th {\n        text-align: right;\n    }\n</style>\n<table border=\"1\" class=\"dataframe\">\n  <thead>\n    <tr style=\"text-align: right;\">\n      <th></th>\n      <th>name</th>\n      <th>year</th>\n      <th>value</th>\n      <th>lastValue</th>\n      <th>rank</th>\n    </tr>\n  </thead>\n  <tbody>\n    <tr>\n      <th>0</th>\n      <td>Afghanistan</td>\n      <td>2020.2</td>\n      <td>203.0</td>\n      <td>0.0</td>\n      <td>101</td>\n    </tr>\n    <tr>\n      <th>1</th>\n      <td>Afghanistan</td>\n      <td>2020.3</td>\n      <td>9537.0</td>\n      <td>203.0</td>\n      <td>75</td>\n    </tr>\n    <tr>\n      <th>2</th>\n      <td>Afghanistan</td>\n      <td>2020.4</td>\n      <td>96483.0</td>\n      <td>9537.0</td>\n      <td>45</td>\n    </tr>\n    <tr>\n      <th>3</th>\n      <td>Afghanistan</td>\n      <td>2020.5</td>\n      <td>226442.0</td>\n      <td>96483.0</td>\n      <td>44</td>\n    </tr>\n    <tr>\n      <th>4</th>\n      <td>Afghanistan</td>\n      <td>2020.6</td>\n      <td>258809.0</td>\n      <td>226442.0</td>\n      <td>54</td>\n    </tr>\n    <tr>\n      <th>...</th>\n      <td>...</td>\n      <td>...</td>\n      <td>...</td>\n      <td>...</td>\n      <td>...</td>\n    </tr>\n    <tr>\n      <th>2684</th>\n      <td>Zimbabwe</td>\n      <td>2021.0</td>\n      <td>137606.0</td>\n      <td>67837.0</td>\n      <td>111</td>\n    </tr>\n    <tr>\n      <th>2685</th>\n      <td>Zimbabwe</td>\n      <td>2021.1</td>\n      <td>245052.0</td>\n      <td>137606.0</td>\n      <td>106</td>\n    </tr>\n    <tr>\n      <th>2686</th>\n      <td>Zimbabwe</td>\n      <td>2021.2</td>\n      <td>257528.0</td>\n      <td>245052.0</td>\n      <td>112</td>\n    </tr>\n    <tr>\n      <th>2687</th>\n      <td>Zimbabwe</td>\n      <td>2021.3</td>\n      <td>267681.0</td>\n      <td>257528.0</td>\n      <td>113</td>\n    </tr>\n    <tr>\n      <th>2688</th>\n      <td>Zimbabwe</td>\n      <td>2021.4</td>\n      <td>272135.0</td>\n      <td>267681.0</td>\n      <td>116</td>\n    </tr>\n  </tbody>\n</table>\n<p>2579 rows × 5 columns</p>\n</div>"
     },
     "metadata": {},
     "execution_count": 7
    }
   ],
   "source": [
    "df"
   ]
  },
  {
   "cell_type": "code",
   "execution_count": 18,
   "metadata": {},
   "outputs": [],
   "source": []
  },
  {
   "cell_type": "code",
   "execution_count": 13,
   "metadata": {},
   "outputs": [
    {
     "output_type": "stream",
     "name": "stderr",
     "text": [
      "<ipython-input-13-162520f11f11>:1: FutureWarning: Series.dt.weekofyear and Series.dt.week have been deprecated.  Please use Series.dt.isocalendar().week instead.\n  df[\"year\"] = df[\"year\"].dt.year + df[\"year\"].dt.week/52\n"
     ]
    }
   ],
   "source": []
  },
  {
   "cell_type": "code",
   "execution_count": 17,
   "metadata": {},
   "outputs": [],
   "source": [
    "#df[\"year\"] = df[\"year\"].round(1)"
   ]
  },
  {
   "cell_type": "code",
   "execution_count": null,
   "metadata": {},
   "outputs": [],
   "source": []
  }
 ]
}