{
 "metadata": {
  "language_info": {
   "codemirror_mode": {
    "name": "ipython",
    "version": 3
   },
   "file_extension": ".py",
   "mimetype": "text/x-python",
   "name": "python",
   "nbconvert_exporter": "python",
   "pygments_lexer": "ipython3",
   "version": "3.8.8"
  },
  "orig_nbformat": 4,
  "kernelspec": {
   "name": "python3",
   "display_name": "Python 3.8.8 64-bit ('datascience_env': conda)"
  },
  "interpreter": {
   "hash": "d040fe44094f607f8a7e092c732cea4bc734eda1f596a5539f89b0737d59792e"
  }
 },
 "nbformat": 4,
 "nbformat_minor": 2,
 "cells": [
  {
   "cell_type": "code",
   "execution_count": 1,
   "metadata": {},
   "outputs": [
    {
     "output_type": "display_data",
     "data": {
      "text/plain": "<IPython.core.display.Javascript object>",
      "application/javascript": "\n        if (window._pyforest_update_imports_cell) { window._pyforest_update_imports_cell('import pandas as pd'); }\n    "
     },
     "metadata": {}
    },
    {
     "output_type": "execute_result",
     "data": {
      "text/plain": [
       "        name     value    year  lastValue  rank\n",
       "0      Apple  214480.0  2018.0   211447.4     1\n",
       "1      Apple  211447.4  2017.9   208414.8     1\n",
       "2      Apple  208414.8  2017.8   205382.2     1\n",
       "3      Apple  205382.2  2017.7   202349.6     1\n",
       "4      Apple  202349.6  2017.6   199317.0     1\n",
       "...      ...       ...     ...        ...   ...\n",
       "18095   Zara       NaN  2004.5        NaN   100\n",
       "18096   Zara       NaN  2004.6        NaN   100\n",
       "18097   Zara       NaN  2004.7        NaN   100\n",
       "18098   Zara       NaN  2004.8        NaN   100\n",
       "18099   Zara       NaN  2004.9        NaN   100\n",
       "\n",
       "[18100 rows x 5 columns]"
      ],
      "text/html": "<div>\n<style scoped>\n    .dataframe tbody tr th:only-of-type {\n        vertical-align: middle;\n    }\n\n    .dataframe tbody tr th {\n        vertical-align: top;\n    }\n\n    .dataframe thead th {\n        text-align: right;\n    }\n</style>\n<table border=\"1\" class=\"dataframe\">\n  <thead>\n    <tr style=\"text-align: right;\">\n      <th></th>\n      <th>name</th>\n      <th>value</th>\n      <th>year</th>\n      <th>lastValue</th>\n      <th>rank</th>\n    </tr>\n  </thead>\n  <tbody>\n    <tr>\n      <th>0</th>\n      <td>Apple</td>\n      <td>214480.0</td>\n      <td>2018.0</td>\n      <td>211447.4</td>\n      <td>1</td>\n    </tr>\n    <tr>\n      <th>1</th>\n      <td>Apple</td>\n      <td>211447.4</td>\n      <td>2017.9</td>\n      <td>208414.8</td>\n      <td>1</td>\n    </tr>\n    <tr>\n      <th>2</th>\n      <td>Apple</td>\n      <td>208414.8</td>\n      <td>2017.8</td>\n      <td>205382.2</td>\n      <td>1</td>\n    </tr>\n    <tr>\n      <th>3</th>\n      <td>Apple</td>\n      <td>205382.2</td>\n      <td>2017.7</td>\n      <td>202349.6</td>\n      <td>1</td>\n    </tr>\n    <tr>\n      <th>4</th>\n      <td>Apple</td>\n      <td>202349.6</td>\n      <td>2017.6</td>\n      <td>199317.0</td>\n      <td>1</td>\n    </tr>\n    <tr>\n      <th>...</th>\n      <td>...</td>\n      <td>...</td>\n      <td>...</td>\n      <td>...</td>\n      <td>...</td>\n    </tr>\n    <tr>\n      <th>18095</th>\n      <td>Zara</td>\n      <td>NaN</td>\n      <td>2004.5</td>\n      <td>NaN</td>\n      <td>100</td>\n    </tr>\n    <tr>\n      <th>18096</th>\n      <td>Zara</td>\n      <td>NaN</td>\n      <td>2004.6</td>\n      <td>NaN</td>\n      <td>100</td>\n    </tr>\n    <tr>\n      <th>18097</th>\n      <td>Zara</td>\n      <td>NaN</td>\n      <td>2004.7</td>\n      <td>NaN</td>\n      <td>100</td>\n    </tr>\n    <tr>\n      <th>18098</th>\n      <td>Zara</td>\n      <td>NaN</td>\n      <td>2004.8</td>\n      <td>NaN</td>\n      <td>100</td>\n    </tr>\n    <tr>\n      <th>18099</th>\n      <td>Zara</td>\n      <td>NaN</td>\n      <td>2004.9</td>\n      <td>NaN</td>\n      <td>100</td>\n    </tr>\n  </tbody>\n</table>\n<p>18100 rows × 5 columns</p>\n</div>"
     },
     "metadata": {},
     "execution_count": 1
    }
   ],
   "source": [
    "df_a = pd.read_csv(\"web/data/brand_values.csv\")\n",
    "df_a"
   ]
  },
  {
   "cell_type": "code",
   "execution_count": 2,
   "metadata": {},
   "outputs": [
    {
     "output_type": "display_data",
     "data": {
      "text/plain": "<IPython.core.display.Javascript object>",
      "application/javascript": "\n        if (window._pyforest_update_imports_cell) { window._pyforest_update_imports_cell('import pandas as pd'); }\n    "
     },
     "metadata": {}
    },
    {
     "output_type": "display_data",
     "data": {
      "text/plain": "<IPython.core.display.Javascript object>",
      "application/javascript": "\n        if (window._pyforest_update_imports_cell) { window._pyforest_update_imports_cell('import pandas as pd'); }\n    "
     },
     "metadata": {}
    }
   ],
   "source": [
    "df = pd.read_csv(\"web/data/covid-data.csv\")\n",
    "df[\"date\"] = pd.to_datetime(df[\"date\"])\n",
    "df = df.set_index(\"date\")\n",
    "df = df[[\"location\", \"total_cases\", \"new_cases\"]].reset_index()\n",
    "df[\"lastValue\"] = df[\"total_cases\"] - df[\"new_cases\"]\n",
    "df = df.rename(columns={\"total_cases\" : \"value\", \"location\" : \"name\"})\n",
    "df = df.fillna(0)\n",
    "df = df.sort_values([\"date\", \"value\"], ascending=[True, False])"
   ]
  },
  {
   "cell_type": "code",
   "execution_count": 45,
   "metadata": {},
   "outputs": [
    {
     "output_type": "display_data",
     "data": {
      "text/plain": "<IPython.core.display.Javascript object>",
      "application/javascript": "\n        if (window._pyforest_update_imports_cell) { window._pyforest_update_imports_cell('import pandas as pd'); }\n    "
     },
     "metadata": {}
    },
    {
     "output_type": "stream",
     "name": "stderr",
     "text": [
      "<ipython-input-45-5c31a19ae44c>:7: FutureWarning: Series.dt.weekofyear and Series.dt.week have been deprecated.  Please use Series.dt.isocalendar().week instead.\n  df[\"year\"] = df[\"year\"].dt.year + df[\"year\"].dt.week/52\n"
     ]
    }
   ],
   "source": [
    "df = df.groupby([\"name\", pd.Grouper(key='date', freq='W-MON')]).sum(\"value\").reset_index()\n",
    "df[\"lastValue\"] = df[\"value\"].shift().fillna(0)\n",
    "df = df.drop(\"new_cases\", axis=1)\n",
    "df[\"rank\"] = df.groupby(\"date\").rank(method=\"max\", ascending=False)[\"value\"].astype(int)\n",
    "df = df.rename(columns={\"date\":\"year\"})\n",
    "df = df[[\"name\", \"value\", \"year\", \"lastValue\", \"rank\"]]#.to_csv(\"covid_1.csv\")\n",
    "df[\"year\"] = df[\"year\"].dt.year + df[\"year\"].dt.week/52"
   ]
  },
  {
   "cell_type": "code",
   "execution_count": 53,
   "metadata": {},
   "outputs": [
    {
     "output_type": "execute_result",
     "data": {
      "text/plain": [
       "                  name     value         year  lastValue  rank\n",
       "13341         Zimbabwe  272135.0  2021.423077   270563.0   124\n",
       "8962   Northern Cyprus       0.0  2021.423077        0.0   216\n",
       "9029            Norway  869901.0  2021.423077   849443.0    98\n",
       "9100           Oceania  341245.0  2021.423077   334030.0   118\n",
       "5057            Guinea  161881.0  2021.423077   160686.0   136\n",
       "...                ...       ...          ...        ...   ...\n",
       "11958         Thailand       0.0  2020.057692        0.0     4\n",
       "9492              Peru       0.0  2020.038462  2433361.0     4\n",
       "7762            Mexico       0.0  2020.038462     9445.0     4\n",
       "11957         Thailand       0.0  2020.038462     3563.0     4\n",
       "475          Argentina       0.0  2020.038462     8811.0     4\n",
       "\n",
       "[13342 rows x 5 columns]"
      ],
      "text/html": "<div>\n<style scoped>\n    .dataframe tbody tr th:only-of-type {\n        vertical-align: middle;\n    }\n\n    .dataframe tbody tr th {\n        vertical-align: top;\n    }\n\n    .dataframe thead th {\n        text-align: right;\n    }\n</style>\n<table border=\"1\" class=\"dataframe\">\n  <thead>\n    <tr style=\"text-align: right;\">\n      <th></th>\n      <th>name</th>\n      <th>value</th>\n      <th>year</th>\n      <th>lastValue</th>\n      <th>rank</th>\n    </tr>\n  </thead>\n  <tbody>\n    <tr>\n      <th>13341</th>\n      <td>Zimbabwe</td>\n      <td>272135.0</td>\n      <td>2021.423077</td>\n      <td>270563.0</td>\n      <td>124</td>\n    </tr>\n    <tr>\n      <th>8962</th>\n      <td>Northern Cyprus</td>\n      <td>0.0</td>\n      <td>2021.423077</td>\n      <td>0.0</td>\n      <td>216</td>\n    </tr>\n    <tr>\n      <th>9029</th>\n      <td>Norway</td>\n      <td>869901.0</td>\n      <td>2021.423077</td>\n      <td>849443.0</td>\n      <td>98</td>\n    </tr>\n    <tr>\n      <th>9100</th>\n      <td>Oceania</td>\n      <td>341245.0</td>\n      <td>2021.423077</td>\n      <td>334030.0</td>\n      <td>118</td>\n    </tr>\n    <tr>\n      <th>5057</th>\n      <td>Guinea</td>\n      <td>161881.0</td>\n      <td>2021.423077</td>\n      <td>160686.0</td>\n      <td>136</td>\n    </tr>\n    <tr>\n      <th>...</th>\n      <td>...</td>\n      <td>...</td>\n      <td>...</td>\n      <td>...</td>\n      <td>...</td>\n    </tr>\n    <tr>\n      <th>11958</th>\n      <td>Thailand</td>\n      <td>0.0</td>\n      <td>2020.057692</td>\n      <td>0.0</td>\n      <td>4</td>\n    </tr>\n    <tr>\n      <th>9492</th>\n      <td>Peru</td>\n      <td>0.0</td>\n      <td>2020.038462</td>\n      <td>2433361.0</td>\n      <td>4</td>\n    </tr>\n    <tr>\n      <th>7762</th>\n      <td>Mexico</td>\n      <td>0.0</td>\n      <td>2020.038462</td>\n      <td>9445.0</td>\n      <td>4</td>\n    </tr>\n    <tr>\n      <th>11957</th>\n      <td>Thailand</td>\n      <td>0.0</td>\n      <td>2020.038462</td>\n      <td>3563.0</td>\n      <td>4</td>\n    </tr>\n    <tr>\n      <th>475</th>\n      <td>Argentina</td>\n      <td>0.0</td>\n      <td>2020.038462</td>\n      <td>8811.0</td>\n      <td>4</td>\n    </tr>\n  </tbody>\n</table>\n<p>13342 rows × 5 columns</p>\n</div>"
     },
     "metadata": {},
     "execution_count": 53
    }
   ],
   "source": [
    "df.sort_values(\"year\", ascending=False)"
   ]
  },
  {
   "cell_type": "code",
   "execution_count": 47,
   "metadata": {},
   "outputs": [],
   "source": [
    "df.to_csv(\"covid-dataviz copy/web/data/covid_1.csv\")"
   ]
  },
  {
   "cell_type": "code",
   "execution_count": 3,
   "metadata": {},
   "outputs": [],
   "source": [
    "#df.groupby([\"name\", pd.Grouper(key='date', freq='W-MON')]).sum(\"value\")"
   ]
  },
  {
   "source": [
    "dates = df[\"date\"].unique()\n",
    "df[\"rank\"] = 0\n",
    "for day in dates:\n",
    "    for i in range(len(df[df[\"date\"] == day])):\n",
    "        df[df[\"date\"] == day].iloc[i][\"rank\"] = i+1"
   ],
   "cell_type": "markdown",
   "metadata": {}
  },
  {
   "cell_type": "code",
   "execution_count": 22,
   "metadata": {},
   "outputs": [
    {
     "output_type": "execute_result",
     "data": {
      "text/plain": [
       "        name     value    year  lastValue  rank\n",
       "0      Apple  214480.0  2018.0   211447.4     1\n",
       "1      Apple  211447.4  2017.9   208414.8     1\n",
       "2      Apple  208414.8  2017.8   205382.2     1\n",
       "3      Apple  205382.2  2017.7   202349.6     1\n",
       "4      Apple  202349.6  2017.6   199317.0     1\n",
       "...      ...       ...     ...        ...   ...\n",
       "18095   Zara       NaN  2004.5        NaN   100\n",
       "18096   Zara       NaN  2004.6        NaN   100\n",
       "18097   Zara       NaN  2004.7        NaN   100\n",
       "18098   Zara       NaN  2004.8        NaN   100\n",
       "18099   Zara       NaN  2004.9        NaN   100\n",
       "\n",
       "[18100 rows x 5 columns]"
      ],
      "text/html": "<div>\n<style scoped>\n    .dataframe tbody tr th:only-of-type {\n        vertical-align: middle;\n    }\n\n    .dataframe tbody tr th {\n        vertical-align: top;\n    }\n\n    .dataframe thead th {\n        text-align: right;\n    }\n</style>\n<table border=\"1\" class=\"dataframe\">\n  <thead>\n    <tr style=\"text-align: right;\">\n      <th></th>\n      <th>name</th>\n      <th>value</th>\n      <th>year</th>\n      <th>lastValue</th>\n      <th>rank</th>\n    </tr>\n  </thead>\n  <tbody>\n    <tr>\n      <th>0</th>\n      <td>Apple</td>\n      <td>214480.0</td>\n      <td>2018.0</td>\n      <td>211447.4</td>\n      <td>1</td>\n    </tr>\n    <tr>\n      <th>1</th>\n      <td>Apple</td>\n      <td>211447.4</td>\n      <td>2017.9</td>\n      <td>208414.8</td>\n      <td>1</td>\n    </tr>\n    <tr>\n      <th>2</th>\n      <td>Apple</td>\n      <td>208414.8</td>\n      <td>2017.8</td>\n      <td>205382.2</td>\n      <td>1</td>\n    </tr>\n    <tr>\n      <th>3</th>\n      <td>Apple</td>\n      <td>205382.2</td>\n      <td>2017.7</td>\n      <td>202349.6</td>\n      <td>1</td>\n    </tr>\n    <tr>\n      <th>4</th>\n      <td>Apple</td>\n      <td>202349.6</td>\n      <td>2017.6</td>\n      <td>199317.0</td>\n      <td>1</td>\n    </tr>\n    <tr>\n      <th>...</th>\n      <td>...</td>\n      <td>...</td>\n      <td>...</td>\n      <td>...</td>\n      <td>...</td>\n    </tr>\n    <tr>\n      <th>18095</th>\n      <td>Zara</td>\n      <td>NaN</td>\n      <td>2004.5</td>\n      <td>NaN</td>\n      <td>100</td>\n    </tr>\n    <tr>\n      <th>18096</th>\n      <td>Zara</td>\n      <td>NaN</td>\n      <td>2004.6</td>\n      <td>NaN</td>\n      <td>100</td>\n    </tr>\n    <tr>\n      <th>18097</th>\n      <td>Zara</td>\n      <td>NaN</td>\n      <td>2004.7</td>\n      <td>NaN</td>\n      <td>100</td>\n    </tr>\n    <tr>\n      <th>18098</th>\n      <td>Zara</td>\n      <td>NaN</td>\n      <td>2004.8</td>\n      <td>NaN</td>\n      <td>100</td>\n    </tr>\n    <tr>\n      <th>18099</th>\n      <td>Zara</td>\n      <td>NaN</td>\n      <td>2004.9</td>\n      <td>NaN</td>\n      <td>100</td>\n    </tr>\n  </tbody>\n</table>\n<p>18100 rows × 5 columns</p>\n</div>"
     },
     "metadata": {},
     "execution_count": 22
    }
   ],
   "source": [
    "df_a"
   ]
  },
  {
   "cell_type": "code",
   "execution_count": 23,
   "metadata": {},
   "outputs": [
    {
     "output_type": "execute_result",
     "data": {
      "text/plain": [
       "              name     value         year  lastValue  rank\n",
       "0      Afghanistan       1.0  2020.173077        0.0    46\n",
       "1      Afghanistan       7.0  2020.192308        7.0    63\n",
       "2      Afghanistan      30.0  2020.211538       24.0    72\n",
       "3      Afghanistan      93.0  2020.230769       82.0    90\n",
       "4      Afghanistan     203.0  2020.250000      180.0   109\n",
       "...            ...       ...          ...        ...   ...\n",
       "13337     Zimbabwe  267681.0  2021.346154   267490.0   121\n",
       "13338     Zimbabwe  268751.0  2021.365385   268611.0   123\n",
       "13339     Zimbabwe  269626.0  2021.384615   269487.0   124\n",
       "13340     Zimbabwe  270563.0  2021.403846   270439.0   124\n",
       "13341     Zimbabwe  272135.0  2021.423077   271870.0   124\n",
       "\n",
       "[13342 rows x 5 columns]"
      ],
      "text/html": "<div>\n<style scoped>\n    .dataframe tbody tr th:only-of-type {\n        vertical-align: middle;\n    }\n\n    .dataframe tbody tr th {\n        vertical-align: top;\n    }\n\n    .dataframe thead th {\n        text-align: right;\n    }\n</style>\n<table border=\"1\" class=\"dataframe\">\n  <thead>\n    <tr style=\"text-align: right;\">\n      <th></th>\n      <th>name</th>\n      <th>value</th>\n      <th>year</th>\n      <th>lastValue</th>\n      <th>rank</th>\n    </tr>\n  </thead>\n  <tbody>\n    <tr>\n      <th>0</th>\n      <td>Afghanistan</td>\n      <td>1.0</td>\n      <td>2020.173077</td>\n      <td>0.0</td>\n      <td>46</td>\n    </tr>\n    <tr>\n      <th>1</th>\n      <td>Afghanistan</td>\n      <td>7.0</td>\n      <td>2020.192308</td>\n      <td>7.0</td>\n      <td>63</td>\n    </tr>\n    <tr>\n      <th>2</th>\n      <td>Afghanistan</td>\n      <td>30.0</td>\n      <td>2020.211538</td>\n      <td>24.0</td>\n      <td>72</td>\n    </tr>\n    <tr>\n      <th>3</th>\n      <td>Afghanistan</td>\n      <td>93.0</td>\n      <td>2020.230769</td>\n      <td>82.0</td>\n      <td>90</td>\n    </tr>\n    <tr>\n      <th>4</th>\n      <td>Afghanistan</td>\n      <td>203.0</td>\n      <td>2020.250000</td>\n      <td>180.0</td>\n      <td>109</td>\n    </tr>\n    <tr>\n      <th>...</th>\n      <td>...</td>\n      <td>...</td>\n      <td>...</td>\n      <td>...</td>\n      <td>...</td>\n    </tr>\n    <tr>\n      <th>13337</th>\n      <td>Zimbabwe</td>\n      <td>267681.0</td>\n      <td>2021.346154</td>\n      <td>267490.0</td>\n      <td>121</td>\n    </tr>\n    <tr>\n      <th>13338</th>\n      <td>Zimbabwe</td>\n      <td>268751.0</td>\n      <td>2021.365385</td>\n      <td>268611.0</td>\n      <td>123</td>\n    </tr>\n    <tr>\n      <th>13339</th>\n      <td>Zimbabwe</td>\n      <td>269626.0</td>\n      <td>2021.384615</td>\n      <td>269487.0</td>\n      <td>124</td>\n    </tr>\n    <tr>\n      <th>13340</th>\n      <td>Zimbabwe</td>\n      <td>270563.0</td>\n      <td>2021.403846</td>\n      <td>270439.0</td>\n      <td>124</td>\n    </tr>\n    <tr>\n      <th>13341</th>\n      <td>Zimbabwe</td>\n      <td>272135.0</td>\n      <td>2021.423077</td>\n      <td>271870.0</td>\n      <td>124</td>\n    </tr>\n  </tbody>\n</table>\n<p>13342 rows × 5 columns</p>\n</div>"
     },
     "metadata": {},
     "execution_count": 23
    }
   ],
   "source": [
    "df"
   ]
  },
  {
   "cell_type": "code",
   "execution_count": 18,
   "metadata": {},
   "outputs": [],
   "source": []
  },
  {
   "cell_type": "code",
   "execution_count": 13,
   "metadata": {},
   "outputs": [
    {
     "output_type": "stream",
     "name": "stderr",
     "text": [
      "<ipython-input-13-162520f11f11>:1: FutureWarning: Series.dt.weekofyear and Series.dt.week have been deprecated.  Please use Series.dt.isocalendar().week instead.\n  df[\"year\"] = df[\"year\"].dt.year + df[\"year\"].dt.week/52\n"
     ]
    }
   ],
   "source": []
  },
  {
   "cell_type": "code",
   "execution_count": 17,
   "metadata": {},
   "outputs": [],
   "source": [
    "#df[\"year\"] = df[\"year\"].round(1)"
   ]
  },
  {
   "cell_type": "code",
   "execution_count": null,
   "metadata": {},
   "outputs": [],
   "source": []
  }
 ]
}